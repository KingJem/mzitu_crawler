{
 "cells": [
  {
   "cell_type": "code",
   "execution_count": 25,
   "metadata": {},
   "outputs": [
    {
     "name": "stdout",
     "output_type": "stream",
     "text": [
      "http://116.196.90.176:3128\n"
     ]
    }
   ],
   "source": [
    "import requests\n",
    "\n",
    "def get_proxy():\n",
    "    return requests.get(\"http://127.0.0.1:5010/get/\").text\n",
    "\n",
    "#  requests.get(\"http://127.0.0.1:5010/get\").content()\n",
    "msg = get_proxy()\n",
    "print( \"http://%s\"%msg)\n",
    "\n"
   ]
  },
  {
   "cell_type": "code",
   "execution_count": 22,
   "metadata": {},
   "outputs": [
    {
     "name": "stdout",
     "output_type": "stream",
     "text": [
      "163.125.69.2:8888\n"
     ]
    }
   ],
   "source": [
    "import requests\n",
    "\n",
    "def get_proxy():\n",
    "    return requests.get(\"http://127.0.0.1:5010/get/\").content\n",
    "meg = get_proxy().decode(encoding = \"utf-8\")\n",
    "print(meg)"
   ]
  },
  {
   "cell_type": "code",
   "execution_count": 26,
   "metadata": {},
   "outputs": [
    {
     "name": "stdout",
     "output_type": "stream",
     "text": [
      "5050\n"
     ]
    }
   ],
   "source": [
    "sum = 0\n",
    "for i in range(1,101):\n",
    "    sum = sum +i \n",
    "print(sum)"
   ]
  },
  {
   "cell_type": "code",
   "execution_count": 30,
   "metadata": {},
   "outputs": [
    {
     "name": "stdout",
     "output_type": "stream",
     "text": [
      "-50\n"
     ]
    }
   ],
   "source": [
    "sum = 0\n",
    "for i in range(1,101):\n",
    "    if i%2 == 0:\n",
    "        \n",
    "        sum = sum -i \n",
    "    else:\n",
    "        sum = sum +i\n",
    "print(sum)"
   ]
  },
  {
   "cell_type": "code",
   "execution_count": null,
   "metadata": {},
   "outputs": [],
   "source": []
  }
 ],
 "metadata": {
  "kernelspec": {
   "display_name": "Python 3",
   "language": "python",
   "name": "python3"
  },
  "language_info": {
   "codemirror_mode": {
    "name": "ipython",
    "version": 3
   },
   "file_extension": ".py",
   "mimetype": "text/x-python",
   "name": "python",
   "nbconvert_exporter": "python",
   "pygments_lexer": "ipython3",
   "version": "3.6.3"
  }
 },
 "nbformat": 4,
 "nbformat_minor": 2
}
